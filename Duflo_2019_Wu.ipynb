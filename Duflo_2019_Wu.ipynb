{
 "cells": [
  {
   "cell_type": "markdown",
   "metadata": {},
   "source": [
    "--- \n",
    "Project for the course in Microeconometrics | Summer 2020, M.Sc. Economics, Bonn University | [Ying-Xuan Wu](https://github.com/amanda8412383)\n",
    "\n",
    "# Replication of Duflo E, Dupas P, Ginn T, Barasa GM, Baraza M, Pouliquen V, et al. (2019) <a class=\"tocSkip\">   \n",
    "---"
   ]
  },
  {
   "cell_type": "code",
   "execution_count": 14,
   "metadata": {},
   "outputs": [
    {
     "name": "stderr",
     "output_type": "stream",
     "text": [
      "'cat' is not recognized as an internal or external command,\n",
      "operable program or batch file.\n"
     ]
    }
   ],
   "source": [
    "! cat environment.yml"
   ]
  },
  {
   "cell_type": "code",
   "execution_count": 11,
   "metadata": {},
   "outputs": [
    {
     "name": "stdout",
     "output_type": "stream",
     "text": [
      "Collecting package metadata (current_repodata.json): ...working... done\n",
      "Solving environment: ...working... done\n",
      "\n",
      "## Package Plan ##\n",
      "\n",
      "  environment location: C:\\Users\\amand\\anaconda3\\envs\\student_project\n",
      "\n",
      "  added / updated specs:\n",
      "    - numpy\n",
      "    - pandas\n",
      "    - statsmodels\n",
      "\n",
      "\n",
      "The following NEW packages will be INSTALLED:\n",
      "\n",
      "  blas               pkgs/main/win-64::blas-1.0-mkl\n",
      "  ca-certificates    pkgs/main/win-64::ca-certificates-2020.6.24-0\n",
      "  certifi            pkgs/main/win-64::certifi-2020.6.20-py38_0\n",
      "  icc_rt             pkgs/main/win-64::icc_rt-2019.0.0-h0cc432a_1\n",
      "  intel-openmp       pkgs/main/win-64::intel-openmp-2020.1-216\n",
      "  mkl                pkgs/main/win-64::mkl-2020.1-216\n",
      "  mkl-service        pkgs/main/win-64::mkl-service-2.3.0-py38hb782905_0\n",
      "  mkl_fft            pkgs/main/win-64::mkl_fft-1.1.0-py38h45dec08_0\n",
      "  mkl_random         pkgs/main/win-64::mkl_random-1.1.1-py38h47e9c7a_0\n",
      "  numpy              pkgs/main/win-64::numpy-1.18.5-py38h6530119_0\n",
      "  numpy-base         pkgs/main/win-64::numpy-base-1.18.5-py38hc3f5095_0\n",
      "  openssl            pkgs/main/win-64::openssl-1.1.1g-he774522_0\n",
      "  pandas             pkgs/main/win-64::pandas-1.0.5-py38h47e9c7a_0\n",
      "  patsy              pkgs/main/win-64::patsy-0.5.1-py38_0\n",
      "  pip                pkgs/main/win-64::pip-20.1.1-py38_1\n",
      "  python             pkgs/main/win-64::python-3.8.3-he1778fa_2\n",
      "  python-dateutil    pkgs/main/noarch::python-dateutil-2.8.1-py_0\n",
      "  pytz               pkgs/main/noarch::pytz-2020.1-py_0\n",
      "  scipy              pkgs/main/win-64::scipy-1.5.0-py38h9439919_0\n",
      "  setuptools         pkgs/main/win-64::setuptools-49.2.0-py38_0\n",
      "  six                pkgs/main/noarch::six-1.15.0-py_0\n",
      "  sqlite             pkgs/main/win-64::sqlite-3.32.3-h2a8f88b_0\n",
      "  statsmodels        pkgs/main/win-64::statsmodels-0.11.1-py38he774522_0\n",
      "  vc                 pkgs/main/win-64::vc-14.1-h0510ff6_4\n",
      "  vs2015_runtime     pkgs/main/win-64::vs2015_runtime-14.16.27012-hf0eaf9b_3\n",
      "  wheel              pkgs/main/win-64::wheel-0.34.2-py38_0\n",
      "  wincertstore       pkgs/main/win-64::wincertstore-0.2-py38_0\n",
      "  zlib               pkgs/main/win-64::zlib-1.2.11-h62dcd97_4\n",
      "\n",
      "\n",
      "Preparing transaction: ...working... done\n",
      "Verifying transaction: ...working... done\n",
      "Executing transaction: ...working... done\n",
      "#\n",
      "# To activate this environment, use\n",
      "#\n",
      "#     $ conda activate student_project\n",
      "#\n",
      "# To deactivate an active environment, use\n",
      "#\n",
      "#     $ conda deactivate\n",
      "\n"
     ]
    },
    {
     "name": "stderr",
     "output_type": "stream",
     "text": [
      "\n",
      "\n",
      "==> WARNING: A newer version of conda exists. <==\n",
      "  current version: 4.8.2\n",
      "  latest version: 4.8.3\n",
      "\n",
      "Please update conda by running\n",
      "\n",
      "    $ conda update -n base -c defaults conda\n",
      "\n",
      "\n"
     ]
    }
   ],
   "source": [
    "! conda create -y --name student_project numpy pandas statsmodels\n"
   ]
  },
  {
   "cell_type": "code",
   "execution_count": 6,
   "metadata": {},
   "outputs": [
    {
     "name": "stderr",
     "output_type": "stream",
     "text": [
      "'cat' is not recognized as an internal or external command,\n",
      "operable program or batch file.\n"
     ]
    }
   ],
   "source": [
    "!cat environment.yml\n"
   ]
  },
  {
   "cell_type": "markdown",
   "metadata": {},
   "source": [
    "This notebook contains my replication of the results from the following paper:\n",
    "\n",
    "> Duflo E, Dupas P, Ginn T, Barasa GM, Baraza M, Pouliquen V, et al. (2019) HIV prevention among youth: A randomized controlled trial of voluntary counseling and testing for HIV and male condom distribution in rural Kenya\n",
    "\n",
    "##### Downloading and viewing this notebook:\n",
    "\n",
    "* The best way to view this notebook is by downloading it and the repository it is located in from [GitHub](https://github.com/HumanCapitalAnalysis/microeconometrics-course-project-amanda8412383). \n",
    "\n",
    "* Other viewing options like _MyBinder_ or _NBViewer_ .\n",
    "\n",
    "\n",
    "* The original paper, as well as the data provided by the authors can be accessed [here](https://dataverse.harvard.edu/dataset.xhtml?persistentId=doi:10.7910/DVN/CVOPZL).\n",
    "\n",
    "##### Information about replication and individual contributions:\n",
    "\n",
    "* Due to the unavailability of original code and the massiveness of the dataset, the estimations all differ from the original paper in various degrees.\n",
    "\n",
    "* One of the most important outcome variable isn't found, the attempts on searching it is documented in section 7\n",
    "\n",
    "* For the replication, I try to remain true to the original structure of the paper, all the panels and rows are lined as they appear in Duflo et al. (2019) and named identically.\n",
    "\n",
    "* some of the columns feature in my replication appear as second-row indexes compared to the original tables, and the incidence rate has become independent to suit my workflow in Python.\n",
    "\n",
    "\n"
   ]
  },
  {
   "cell_type": "markdown",
   "metadata": {
    "toc": true
   },
   "source": [
    "<h1>Table of Contents<span class=\"tocSkip\"></span></h1>\n",
    "<div class=\"toc\"><ul class=\"toc-item\"><li><span><a href=\"#1.-Introduction\" data-toc-modified-id=\"1.-Introduction-1\">1. Introduction</a></span></li><li><span><a href=\"#2.-Study-Design\" data-toc-modified-id=\"2.-Study-Design-2\">2. Study Design</a></span></li><li><span><a href=\"#3.-Identification-Problems\" data-toc-modified-id=\"3.-Identification-Problems-3\">3. Identification Problems</a></span></li><li><span><a href=\"#4.-Empirical-Strategy\" data-toc-modified-id=\"4.-Empirical-Strategy-4\">4. Empirical Strategy</a></span></li>\n",
    "    <li><span><a href=\"#5.-Replication-of-Duflo-et-al.-(2019)\" data-toc-modified-id=\"5.-Replication-of-Duflo-et-al.-(2019)-5\">5. Replication of Duflo et al. (2019)</a></span><ul class=\"toc-item\">\n",
    "        <li><span><a href=\"#5.1.-Data-and-Primary-cleaning\" data-toc-modified-id=\"5.1.-Data-and-Primary-cleaning-5.1\">5.1. Data and Primary cleaning</a></span></li>\n",
    "        <li><span><a href=\"#5.2.-Tables\" data-toc-modified-id=\"5.2.-Tables-5.2\">5.2. Tables</a></span><ul class=\"toc-item\"><li>\n",
    "            <span><a href=\"#5.2.1.-Table-1:-Summary-statistics-at-basline\" data-toc-modified-id=\"5.2.1.-Table-1:-Summary-statistics-at-basline-5.2.1\">5.2.1. Table 1: Summary statistics at basline</a></span></li><li><span><a href=\"#5.2.2.-Table-2:-Intention-to-treat-analysis\" data-toc-modified-id=\"5.2.2.-Table-2:-Intention-to-treat-analysis-5.2.2\">5.2.2. Table 2: Intention to treat analysis</a></span></li><li><span><a href=\"#5.2.3.-Table-3:-Effects-of-Intervention-on-other-outcomes\" data-toc-modified-id=\"5.2.3.-Table-3:-Effects-of-Intervention-on-other-outcomes-5.2.3\">5.2.3. Table 3: Effects of Intervention on other outcomes</a></span></li><li><span><a href=\"#5.2.4.-Table-4:-Heterogenetiy-test\" data-toc-modified-id=\"5.2.4.-Table-4:-Heterogenetiy-test-5.2.4\">5.2.4. Table 4: Heterogenetiy test</a></span></li></ul></li></ul></li>\n",
    "    <li><span><a href=\"#6.-Discussion\" data-toc-modified-id=\"6.-Discussion-6\">6. Discussion</a></span></li>\n",
    "    <li><span><a href=\"#7.-Debug:-HSV-2-at-baseline\" data-toc-modified-id=\"7.-Debug:-HSV-2-at-baseline-7\">7. Debug: HSV-2 at baseline</a></span><ul class=\"toc-item\">\n",
    "    <li><span><a href=\"#7.1.-Searching-dataset-and-verifying\" data-toc-modified-id=\"7.1.-Searching-dataset-and-verifying-7.1\">7.1 Searching dataset and verifying</a></span></li>\n",
    "    <li><span><a href=\"#7.2.-Others\" data-toc-modified-id=\"7.2.-Others-7.2\">7.2 Others</a></span></li>\n",
    "    </ul></li>\n",
    "    <li><span><a href=\"#8.-References\" data-toc-modified-id=\"8.-References-8\">8. References</a></span></li></ul></div>"
   ]
  },
  {
   "cell_type": "code",
   "execution_count": 1,
   "metadata": {},
   "outputs": [],
   "source": [
    "from auxiliary import *\n",
    "from IPython.display import display\n",
    "pd.options.display.max_rows = None"
   ]
  },
  {
   "cell_type": "markdown",
   "metadata": {},
   "source": [
    "---\n",
    "# 1. Introduction \n",
    "---"
   ]
  },
  {
   "cell_type": "markdown",
   "metadata": {},
   "source": [
    "Duflo et al. (2019) examine the effects of Voluntary Counseling and Testing for HIV (VCT) and increasing access to male condoms compared to standard available HIV prevention services, using biological and behavioral outcomes, among youth in Western Kenya. VCT, serving as the entry to HIV treatment and care, is a test of accessing one’s HIV serostatus, in addition to receiving individualized risk-reduction counseling. VCT is supposed to help individuals reduce risky sexual behaviors and prevent themselves and their partners from HIV and other sexually transmitted infections such as Herpes Simplex Type 2 (HSV-2). Even though some of the previous studies show the reduction of risky sexual behavior in testing-positive individuals, other studies bring about the concern of disinhibition among those testing negative (Sherr et al. 2007). \n",
    "\n",
    "Through a four-arm, unblinded, individually randomized controlled trial implemented between 2009 and 2012 in four districts of Kenya’s Western Province, including samples of 10,245 youth aged 17 to 24 randomly assigned to receive community-based VCT, 150 male condoms, both VCT and condoms, or neither program, Duflo et al. (2019) examine the effect of these two interventions among the youth. The result suggests there are no statistically significant effects on the risk of HIV, or other behavioral or knowledge outcomes including self-reported pregnancy rates.\n",
    "\n",
    "**Main variables** \n",
    "\n",
    "| **Interventions**      | **Main outcomes**       |\n",
    "|------------------------|-------------------------|\n",
    "| community-based VCT    | HIV                     |\n",
    "| 150 male condoms       | HSV-2                   |\n",
    "| both                   |                         |\n",
    "| neither                |                         |\n",
    "\n",
    " \n",
    " \n",
    "\n",
    "In this notebook, I attempt to replicate the results presented in the paper by Duflo et al. (2019) but only acquire similar result and failed to find one of the most important outcome variable.In section 2, the methodology adopted by Duflo et al. (2019) is presented, regarding how sampling, treatment, randomizing and tracking are conducted. In Section 3, possible identification is brought out from 3 different aspects, containing selection bias, measure error from self report, and externality. Section 4 briefly discusses the methodology used by the authors. Section 5 shows my replication of the results in the paper and discussion thereof.  Section 6 offers  discussion on insignificant results. Section 7 reveals my failing attemps on finding HSV-2 testing result at baseline.\n"
   ]
  },
  {
   "cell_type": "markdown",
   "metadata": {},
   "source": [
    "---\n",
    "# 2. Study Design\n",
    "---\n",
    "\n",
    "#### **Sample**\n",
    "\n",
    "The samples are from a previous study of the authors ( Duflo, Dupas, and Krewer 2015) which is clustered randomized controlled trial regarding teacher HIV training program and distribution of free uniform, consisting of 19289 enrolled students in grade 6 of 328 schools in 2003. 55% of them, 10245 individuals are trackable during the first round tracking between March 2009 to July 2010. In total, they represent 85% of aged 17 - 24 in 2009 western Kenya. \n",
    "\n",
    "According to the criteria, the participants must :\n",
    "1. Participated in the previous study, which implied at least attended grade 6\n",
    "2. Residency in the study district\n",
    "3. Provided informed consent \n",
    "\n",
    "#### **Randomizing** \n",
    "Stratification by gender, primary school, matriculation of secondary school in as from July 2007, ever pregnant as of 2007, randomly assigned to four arms, 25% each. \n",
    "\n",
    "#### **Treatment** \n",
    "There are standard VCT available to everyone at local health facilities, however, the intervention provided in the trial within community lowering travel time and cost, and social cost of visiting a HIV testing center. For the condom intervention arm, participants were provided 150 male condoms, they could take all or only of these condoms.\n",
    "\n",
    "#### **Tracking**\n",
    "Followed up survey is conducted from April 2011 to May 2013, if the respondent did not show up, field officers would track down the person. 25% of those whose acquittances providing contact information and 10% of those who can’t be contacted at all are randomly selected for further intensive tracking. Intensive tracking weight is included in the estimation.\n"
   ]
  },
  {
   "cell_type": "markdown",
   "metadata": {},
   "source": [
    "---\n",
    "# 3. Identification Problems\n",
    "---\n",
    "Considering Duflo et al. (2019) do not obtain any significant result, it might be more suitable to discuss possible identification problems in this section instead of identification. I am not trying to suggest obtaining significant result means problem-free, it just doesn’t seem meaningful to discuss how their identifications work in this case.\n",
    "\n",
    "#### **Selection bias**\n",
    "As a randomized control trial, this estimation is supposed to be free from selection bias. Nevertheless, in study design, Duflo et al. (2019) mention that the sample is based on its previous study which restricts the participants of this study to those who have attended at least 6 grade and accepting HIV related knowledges. Considering the following model from Greene (2006): \n",
    "\\begin{equation}\n",
    "yi = xi' \\beta + ei\\\\\n",
    "zi^* = wi' \\gamma + ui\\\\\n",
    "zi = 1(zi^* > c)\n",
    "\\end{equation}\n",
    "Where $yi$ is our outcome variable. $xi$ is the treatment group. $zi$ is attending grade 6 or not. wi is are exogenous factors decided to attend 6 grade or not. $ei, ui$ are error terms.\n",
    "Then we can rewrite the function into:\n",
    "\\begin{equation}\n",
    "E(yi|wi, ui) = xi' \\beta + E(ei|wi, ui)\\\\\n",
    " = xi' \\beta + E(ei|ui)\n",
    "\\end{equation}\n",
    "For $E(ei|ui)$ not equals to zero, we might obtain a biased estimator. And such an example is easily thinking of, for example, children from poverty background may be more likely to drop out, and higher chance to become sex worker, can't afford to buy condoms, missing sex education in class are all factors that could increase their chance of getting STI. \n",
    "\n",
    "In the latter discussion, the authors do not bring about this issue, but do admit lower external validity, while stressing as HIV prevention scaled up, increasing population would have access to prevention information.\n",
    "\n",
    "#### **Measure error from self report**\n",
    "Because of the behavioral outcomes are acquired through surveys, one common problem from self-reported is the imprecision of the data, possibly resulting from causes such as forgetfulness or deception. \n",
    "considering models from Hansen (2020):\n",
    "\\begin{equation}\n",
    "yi = \\beta xi^* + ui\\\\\n",
    "\\textrm{where} \\quad E[ui|xi^*] = 0\\\\\n",
    "xi = xi^* + vi\n",
    "\\end{equation}\n",
    "Where $yi$ is one of our outcome variables, $xi$ is reported behavior, $ui$ is the error term, and vi are deviation originated from forgetfulness or deception.\n",
    "rewritten the function as:\n",
    "\\begin{equation}\n",
    "yi = \\beta xi^* + ui\\\\\n",
    "\\textrm{where} \\quad ei = -\\beta vi + ui\\\\\n",
    "\\end{equation}\n",
    "Then we can get the covariance of our treatment and residual is the variance of this reporting mistake. As we need $xi$ and residual to be independent.\n",
    "\n",
    "But I would say measurement error has limited influence in this case. Only a few behavior problems serving as independent variables, for example ever pregnant and school enrollment in 2007 and is theoretically possible to do fact checks on these two variables. Most of the behavioral outcomes are serving as dependent variables in the logistic regression stated at section 4, in which case affect our estimation much lesser.\n",
    "\n",
    "\n",
    "\n",
    "#### **Externalty**\n",
    "One intriguing question to ask is whether these treatments induce externality, Miguel, Edward, and Kremer (2004) finds out in a randomized trial on 75 Kenya primary schools that medical treatment for intestinal helminths in the treatment group also reducing the transmission within the control group, even their randomized trial is taking place across schools. Using male condoms would undoubtedly reduce the possibility of infecting sex partners and thus contaminate the obtaining result. If the subject having any behavioral change after receiving VCT, it’ll also affect their sexual partners. Such an externality exists hinder us to detach treatment effects from the treatment group. I haven’t found any paper having empirical evidence on how would externality affecting HIV research, but some of the papers point this out and try to discuss the possible influence, such as Canning D. (2006).\n",
    "\n",
    "---\n",
    "<span style=\"color:orange\">**NOTE**:</span> the  model used in this paper is logistic regression while I use linear notations in section 3 for simplicity. For nonlinear model, endogeneity and externality are still problems that affect large sample property of estimators which have an in-depth discussion in _A Logit Model With Endogenous Explanatory Variables and Network Externalities_ ( de Grange et al. 2015)"
   ]
  },
  {
   "cell_type": "markdown",
   "metadata": {},
   "source": [
    "---\n",
    "# 4. Empirical Strategy\n",
    "---\n",
    "the following listed methods are statistic analysis used In Duflo et al. (2019).\n",
    "\n",
    "#### **Descriptive statistic**\n",
    "For both baseline and phase 2, descriptive data is shown. Estimation in stage 2 takes into account of weighted follow-up rate. The share of the total sample and comparison among males and females is shown and a second analysis to test for heterogeneity in the result by gender, childbearing experience at baseline, and baseline belief of HIV infection likelihood.\n",
    "\n",
    "#### **Incidence rate**\n",
    "HSV-2 incidence was calculated by dividing respondents who were negative at baseline to new HSV-2 cases in each treatment arm by the total person-years of exposure. If the person remained negative, person-years of exposure is calculated as the total time from the baseline test to the follow-up. For the newly infected cases, it’s calculated as half the time between the baseline test and the positive test.\n",
    "\n",
    "#### **Weighted logistic regression**\n",
    "For estimating the effect of interventions on outcomes, the following logistic regression weighted by survey tracking strategy is run to compare outcomes in each treatment arm to the control, and the adjusted odds ratio and confidence interval are reported. Regressors are listed as follow:\n",
    "\n",
    "\n",
    "|**regressors**          |                         \n",
    "|------------------------|\n",
    "| age group              |\n",
    "| months between 2 surveys             |\n",
    "| gender                               |\n",
    "| secondary school enrollment in 2007  |\n",
    "| ever pregnant by 2007  |\n",
    "| treatment arm          |  \n",
    "\n"
   ]
  },
  {
   "cell_type": "markdown",
   "metadata": {},
   "source": [
    "---\n",
    "# 5. Replication of Duflo et al. (2019)\n",
    "---"
   ]
  },
  {
   "cell_type": "markdown",
   "metadata": {},
   "source": [
    "## 5.1. Data and Primary cleaning \n",
    "\n",
    "\n",
    "Duflo et al. (2019) use a data set with 2374 variables and 19293 participants. The following list concluding main sources of these variable\n",
    "\n",
    "- answers, remarks of baseline questionnaire\n",
    "- answers, remarks of phase 2 questionnaire\n",
    "- school properties such as location, average scores of all students in KCPE\n",
    "- testing results, both HSV-2 and HIV require multiple time of testing  \n",
    "- poorly naming variable that might be created for analysis  \n"
   ]
  },
  {
   "cell_type": "code",
   "execution_count": 3,
   "metadata": {},
   "outputs": [
    {
     "name": "stdout",
     "output_type": "stream",
     "text": [
      "(19293, 2374)\n"
     ]
    }
   ],
   "source": [
    "print(df.shape)"
   ]
  },
  {
   "cell_type": "markdown",
   "metadata": {},
   "source": [
    "Even though the problem set has 19293 respondents, the number of total participants in this project is supposed to yield 7565, the rest are participants of the authors’ previous study. An important question would be how the authors filtering the data and ruling out problematic entries. Since neither the rules of excluding an entry nor how did they clean the data is mentioned in the essay. Besides, because of the majority data are from surveys, 92 variables are naming with \"comments\" describing the situation in the data collecting process. For example, in Log_comment there are entries describing as \"mentally ill\" or \"duplicate\" even though they are surveyed.  After trying all the combinations that seems reasonable to me, I filtered the data by \n",
    "1. having assigned to a treatment group\n",
    "2. labeled as surveyed\n",
    "3. labeled as tracked\n",
    "4. discarded all the entries that have LOG_comments \n",
    "Through this, I gaining an approximate participation number. Unfortunately, this means all my statistics would be different in various degrees with the paper.\n",
    "\n"
   ]
  },
  {
   "cell_type": "code",
   "execution_count": 2,
   "metadata": {},
   "outputs": [
    {
     "name": "stdout",
     "output_type": "stream",
     "text": [
      "Control           1889\n",
      "VCT only          1866\n",
      "Condom only       1855\n",
      "Condom and VCT    1848\n",
      "Name: group, dtype: int64\n",
      "total participant 7458\n"
     ]
    }
   ],
   "source": [
    "ind = df_filter.group.value_counts()\n",
    "total = ind.sum()\n",
    "print(ind)\n",
    "print(f'total participant {total}')"
   ]
  },
  {
   "cell_type": "markdown",
   "metadata": {},
   "source": [
    "##  5.2. Tables"
   ]
  },
  {
   "cell_type": "markdown",
   "metadata": {},
   "source": [
    "### 5.2.1. Table 1: Summary statistics at basline\n",
    "\n",
    "Table 1 shows baseline characteristics of man and woman across 4 trial arm. This table only includes individuals that have been surveyed at follow up. Because of lacking the original code, these variables are recreating myself. The below list describes the method I choose. This is the only table I forgo recreate percentage. As previously mentioned, the baseline HSV-2 result is nowhere to find, thus, second phase HSV-2 is used here.\n",
    "\n",
    "| **Variables**          | **Method**              |\n",
    "|------------------------|-------------------------|\n",
    "| Number of individuals  | counting unique pupilid in each group   |\n",
    "| Age                    | create dummy through variable \"age2009\" |\n",
    "| Total year of schooling| create dummy through answer to \"Q_b1_13_school_years\"|\n",
    "| HSV-2 positive         | using HSV-2 result of phase 2 instead   |\n",
    "| Currently married      | people who have  \"an_spouse_age\"        |\n",
    "| Ever or partner ever pregnant|people who have \"evpreg07v2\" (womwn only) or \"Track_children_number\" > 0 (both gender)|\n",
    "| Ever had sex           | using \"an_everhadsex\"                   |\n",
    "| Last sex used condom   | using answer of \"Q_b4_127_last_sex_use_condom\" |\n",
    "| Ever had multiple partners| using \"an_multiplepartners\"          |\n",
    "| Ever tested for HIV    | using \"an_everHIVtested\"                |\n",
    "| Believed current HIV infection| using answer to \"Q_b3_99\"        |\n",
    "| Believed future HIV infection | using answer to \"Q_b3_100\"       |\n",
    "| Named 3 prevention      | from Dummies \"an_Q_b3_80_how_prevent_hiv_1\" to 19 has at least 3 of them being 1                         |\n",
    "| Answered 3 questions    |\"an_Q_b3_83\", \"an_Q_b3_84\" negative & \"an_Q_b3_88\" being positive |\n",
    "| Showed positive attitude|\"an_Q_b3_112_agree_with_statement\" is 1 & for question number 109 to 111 is 0|\n",
    "\n",
    "3 HIV knowledge question is defined as follow by the author:\n",
    "1. Can HIV be transmitted to a baby in the womb? (Q_b3_83)\n",
    "2. Can HIV be transmitted to a baby during breastfeeding? (Q_b3_84)\n",
    "3. Can HIV spread through mosquito bites? (Q_b3_88)\n",
    "\n",
    "\n",
    "positive attitude is defined as follow by the author:\n",
    "1. Agreed that people with HIV/AIDS should be treated the same as people without HIV/AIDS (an_Q_b3_112_agree_with_statement)\n",
    "2. Disagreed that prostitutes or promiscuous men are responsible for spreading HIV(\"(an_Q_b3_110_agree_with_statement, an_Q_b3_111_agree_with_statement)\n",
    "3. Disagreed that HIV was punishment for bad behavior (an_Q_b3_109_agree_with_statement)\n"
   ]
  },
  {
   "cell_type": "code",
   "execution_count": 10,
   "metadata": {},
   "outputs": [],
   "source": [
    "#variables in table 1\n",
    "varlist = ['Number of individuals', 'Age at baseline_<19', 'Age at baseline_19-20', 'Age at baseline_21-22', 'Age at baseline_>22',\n",
    "          'Not enrolled in school', \n",
    "          'Total year of schooling_<10', 'Total year of schooling_10-11', 'Total year of schooling_12-13', 'Total year of schooling_>13',\n",
    "          'HSV-2 positive', 'Currently married', 'Ever or partner ever pregnant', 'Ever had sex', 'Last sex used condom', 'Ever had multiple partners', 'Ever tested for HIV',\n",
    "          'Believed current HIV infection', 'Believed future HIV infection', \n",
    "          'Named 3 prevention', 'Answered 3 questions', 'Showed positive attitude']\n",
    "# table1(df_merge, varlist)"
   ]
  },
  {
   "cell_type": "markdown",
   "metadata": {},
   "source": [
    "### 5.2.2. Table 2: Intention to treat analysis\n",
    "This table shows HSV-2 and HIV outcomes across males and females. None of the intervention turns out to reduce the infection rate of any of these diseases significantly. Either adjusted odd ratio or weighted prevalence appears similar across interventions. \n",
    "\n",
    "For recreation, query & key was passed into the function to create panels for all and both gender. And also variables are passed in as a pair of (consonant, denominator) to calculate weighted percent.due to these variables are all recorded in different forms and hidden in the variable sea. Hence it requires searching it out, transforming, and passing it in manually. The replication does not contain HSV-2 at baseline, hence the incidence rate is also not in this table. Although HIV cases can be found in both stages, the infection case is too low to have a valid estimation.\n",
    "\n",
    "\n",
    "| **Variables**          | **Method**              |\n",
    "|------------------------|-------------------------|\n",
    "| HSV-2                  | using \"hsv2_positive\"   |\n",
    "| HIV                    | using answer of \"p2_c2_233_hiv_result\" |"
   ]
  },
  {
   "cell_type": "code",
   "execution_count": 9,
   "metadata": {
    "scrolled": true
   },
   "outputs": [],
   "source": [
    "query = ['', 'sex == \"2 Female\"', 'sex == \"1 Male\"']\n",
    "keys=['all', 'female', 'male']\n",
    "varlist2 = [('HSV-2 positive', 'hsv2_accept'), ('HIV', 'p2_c2_233_hiv_result')]\n",
    "\n",
    "# Table(df_merge, query, keys, varlist2, option = 'T2')"
   ]
  },
  {
   "cell_type": "markdown",
   "metadata": {},
   "source": [
    " ### 5.2.3. Table 3: Effects of Intervention on other outcomes\n",
    "In this table, some other behavioral outcome at phase 2 is analyzed across 4 treatment groups and by gender. For the treatment groups receiving condoms, \"Ever received free condoms\" and \"Ever used the free condoms\" are statistically significant comparing to the control or VCT treatment group. Similarly in the outcome \"Ever had VCT\", groups that have receive VCT are more significant comparing to the rest. While other variables, including childbearing, remains statistically insignificant.\n",
    "\n",
    "| **Variables**               | **Method**              |\n",
    "|-----------------------------|-------------------------|\n",
    "| Ever received free condoms  | answer yes to \"p2_b8_200_condomsfree_ever\"    |\n",
    "| Ever used the free condems  | answer 1 or 2 to \"p2_b8_202_condfree_use\"     |\n",
    "| Ever sold/gave condoms      | answer 3 or 4  to \"p2_b8_202_condfree_use\"    |\n",
    "| Ever had VCT                | answer yes to \"p2_b9_204_evervct\" |\n",
    "| VCT more than once          | answer \"p2_b9_205_timesvct\" > 1   |\n",
    "| VCT more than twice         | answer \"p2_b9_205_timesvct\" > 2   |\n",
    "| Currently married p2        | answer currently married to \"p2_b5_115_married\"|\n",
    "| Sex in last 6 months        | using \"p2_b5_118_sexpartners_6mos\" > 0 |\n",
    "| Partner number last 6 months| using answer to \"p2_b5_118_sexpartners_6mos\"   |\n",
    "| Partner number lifetime     | using answer of \"p2_b5_119_sexpartners_life\"   |\n",
    "| Ever used condoms           | answer yes to \"p2_b8_182_everusedcondom\"       |\n",
    "| Used condoms last time      | answer yes to \"p2_b8_186_condom_lasttime\"      |\n",
    "| Unprotected sex non-monogamous| \"p2_b5_119_sexpartners_life\" > 1 & answer never to all of p2_b5_141 (using condoms with 3 most recent partner respectively)           |\n",
    "| Self reported STI           | answer yes to \"p2_b10_214_sti\"       |\n",
    "| Ever or partner ever pregnant p2| answer to \"p2_b7_148_pregnancies_number\" > 0|\n",
    "| Named 3 prevention p2       | having more at least 3 answer in \"p2_b4_72_protecthiv\"|\n",
    "| Answered 3 questions p2     | answer 1 to \"p2_b4_74_hivinwomb\", \"p2_b4_75_hivbreastfeed\" 2 to \"p2_b4_76_hivmosquitoes\" |\n",
    "| Showed positive attitude p2 | answer 4 or 5 to \"p2_b4_111_hivpunishment\", \"p2_b4_112_hivprostitutes\", \"p2_b4_113_hivpromiscuousmen\" and 1 or 2 to \"p2_b4_114_hivtreatedsame\"|\n",
    "| Child number p2             | using \"p2_b7_148_pregnancies_number\" |\n"
   ]
  },
  {
   "cell_type": "code",
   "execution_count": 8,
   "metadata": {},
   "outputs": [],
   "source": [
    "varlist3 = [\n",
    "            (\"Ever received free condoms\", \"everfreecondoms_base\"),\n",
    "            (\"Ever used the free condems\", \"everfreecondoms_base\"),\n",
    "            ('Ever sold/gave condoms', 'Ever received free condoms'),\n",
    "            ('Ever had VCT', 'evervct_base'),\n",
    "            ('VCT more than once', 'evervct_base'),\n",
    "            ('VCT more than twice', 'evervct_base'),\n",
    "            ('Currently married p2', 'currentmarried_base'),\n",
    "            ('Sex in last 6 months', 'sexpartners6mon_base'), \n",
    "            ('Partner number last 6 months', None),\n",
    "            ('Partner number lifetime', None),\n",
    "            ('Ever used condoms', 'everusedcondom_base'),\n",
    "            ('Used condoms last time', 'lasttimecondom_base'),\n",
    "            ('Unprotected sex non-monogamous', 'polynocondom_base'),\n",
    "            ('Self reported STI', 'sti_base'),\n",
    "            ('Ever or partner ever pregnant p2', 'pregnant_base'),\n",
    "            ('Named 3 prevention p2', 'named3prev_base'),\n",
    "            ('Answered 3 questions p2', 'ans3q_base'),\n",
    "            ('Showed positive attitude p2', 'posplhiv_base'), \n",
    "            ('Child number', None)]\n",
    "\n",
    "# Table(df_t3, query, keys, varlist3)"
   ]
  },
  {
   "cell_type": "markdown",
   "metadata": {},
   "source": [
    "### 5.2.4. Table 4: Heterogenetiy test\n",
    "Table 4 presents heterogeneity tests on those who had started childbearing and those who hadn’t in the first 2 panels, and comparing those respondents believed they have been infected at baseline to those who don’t in the last 2 panels, to show the effect of interventions which yield no significant result as well.\n",
    "\n",
    "| **Panels**                        | **Method**              |\n",
    "|-----------------------------------|-------------------------|\n",
    "| Started child bearing             | using \"started_childbearing\"          |\n",
    "| Not started child bearing         | using \"started_childbearing\"   |\n",
    "| Believed current HIV infection > 0| using  \"Q_b3_99\" (what is the likelihood (chance) that you are infected with HIV/AIDS now)|\n",
    "| Believed current HIV infection = 0| using  \"Q_b3_99\" (what is the likelihood (chance) that you are infected with HIV/AIDS now)|\n",
    "\n"
   ]
  },
  {
   "cell_type": "code",
   "execution_count": 11,
   "metadata": {},
   "outputs": [],
   "source": [
    "query4 = ['started_childbearing == 1', 'started_childbearing == 0', 'Q_b3_99 > 1', 'Q_b3_99 == 1']\n",
    "keys4=['Started child bearing', 'Not started child bearing', 'Believed current HIV infection > 0', 'Believed current HIV infection = 0']\n",
    "varlist4 = [('HSV-2 positive', 'hsv2_accept'), ('HSV-2 female', 'hsv2_accept_f'), ('HSV-2 male', 'hsv2_accept_m')]\n",
    "\n",
    "\n",
    "# Table(df_t3, query4, keys4, varlist4)"
   ]
  },
  {
   "cell_type": "markdown",
   "metadata": {},
   "source": [
    "---\n",
    "# 6. Discussion \n",
    "---\n",
    "Overall the analysis does not yield any significant result except for the condom related behavioral outcomes to groups receiving condoms and VCT related behavioral outcomes to groups having VCT. \n",
    "\n",
    "Duflo et al. (2019) providing two possible explanations from previous studies for the non-significant result.\n",
    "1.\tMost of the past research only find behavioral changes in people testing positive of HIV. In a meta-analysis (Fonner 2012 et al.) summing up 17 studies, it appears that no significant changes in STI or HIV prevalence rate of those receiving VCT. However, to who being test positive for HIV, there is a reduction in sex partners and an increase in condom use. This cannot be assessed in our data due to overly low HIV prevalence.\n",
    "\n",
    "2.\tThe age group. Another multi-component HIV prevention program conducted in Africa and Thailand suggests there is a significant reduction among older women, but no effect among ages 18 to 24 (Coates 2014 et al.). In this study, the subjects are between 17 to 24, which is consistent with their finding.\n",
    "3.\tThere were several large scale HIV testing events in the area. At baseline, 44% of the control group had been tested for HIV, while 82.4% had been tested at follow up. The high participation rate is likely to interfere and weaken the effect of treatments.\n",
    "\n",
    "I have considered changing paper because my replication process doesn’t feel like having closed connections to the course contents and the fact I failed to find HSV-2 at baseline. But I didn’t, subjecting to sunk cost fallacy.\n"
   ]
  },
  {
   "cell_type": "markdown",
   "metadata": {},
   "source": [
    "---\n",
    "# 7. Debug: HSV-2 at baseline\n",
    "---\n",
    "This section document all my failing attempts on searching for variable represent HSV-2 testing result at baseline.\n"
   ]
  },
  {
   "cell_type": "markdown",
   "metadata": {},
   "source": [
    "## 7.1. Searching dataset and verifying"
   ]
  },
  {
   "cell_type": "code",
   "execution_count": 13,
   "metadata": {},
   "outputs": [
    {
     "data": {
      "text/html": [
       "<div>\n",
       "<style scoped>\n",
       "    .dataframe tbody tr th:only-of-type {\n",
       "        vertical-align: middle;\n",
       "    }\n",
       "\n",
       "    .dataframe tbody tr th {\n",
       "        vertical-align: top;\n",
       "    }\n",
       "\n",
       "    .dataframe thead th {\n",
       "        text-align: right;\n",
       "    }\n",
       "</style>\n",
       "<table border=\"1\" class=\"dataframe\">\n",
       "  <thead>\n",
       "    <tr style=\"text-align: right;\">\n",
       "      <th></th>\n",
       "      <th>hsv2id</th>\n",
       "      <th>merge_HSVcode</th>\n",
       "      <th>HSV_result1</th>\n",
       "      <th>HSV_od1</th>\n",
       "      <th>HSV_result2</th>\n",
       "      <th>HSV_od2</th>\n",
       "      <th>HSV_result3</th>\n",
       "      <th>HSV_od3</th>\n",
       "      <th>HSV_result4</th>\n",
       "      <th>HSV_od4</th>\n",
       "      <th>HSV_finalresult</th>\n",
       "      <th>HSV_batch</th>\n",
       "      <th>merge_HSVresults</th>\n",
       "      <th>hsv2_positive</th>\n",
       "      <th>HSV2_blood_sample</th>\n",
       "      <th>hsv2_decline</th>\n",
       "      <th>hsv2_accept</th>\n",
       "      <th>HSV-2 positive</th>\n",
       "    </tr>\n",
       "  </thead>\n",
       "  <tbody>\n",
       "    <tr>\n",
       "      <th>1</th>\n",
       "      <td>546864.0</td>\n",
       "      <td>3.0</td>\n",
       "      <td>Negative</td>\n",
       "      <td>NaN</td>\n",
       "      <td></td>\n",
       "      <td>NaN</td>\n",
       "      <td></td>\n",
       "      <td>NaN</td>\n",
       "      <td></td>\n",
       "      <td>NaN</td>\n",
       "      <td>Negative</td>\n",
       "      <td>1.0</td>\n",
       "      <td>3.0</td>\n",
       "      <td>0.0</td>\n",
       "      <td>1.0</td>\n",
       "      <td>0.0</td>\n",
       "      <td>1.0</td>\n",
       "      <td>0</td>\n",
       "    </tr>\n",
       "    <tr>\n",
       "      <th>2</th>\n",
       "      <td>378855.0</td>\n",
       "      <td>3.0</td>\n",
       "      <td>Negative</td>\n",
       "      <td>NaN</td>\n",
       "      <td></td>\n",
       "      <td>NaN</td>\n",
       "      <td></td>\n",
       "      <td>NaN</td>\n",
       "      <td></td>\n",
       "      <td>NaN</td>\n",
       "      <td>Negative</td>\n",
       "      <td>1.0</td>\n",
       "      <td>3.0</td>\n",
       "      <td>0.0</td>\n",
       "      <td>1.0</td>\n",
       "      <td>0.0</td>\n",
       "      <td>1.0</td>\n",
       "      <td>0</td>\n",
       "    </tr>\n",
       "    <tr>\n",
       "      <th>3</th>\n",
       "      <td>579082.0</td>\n",
       "      <td>3.0</td>\n",
       "      <td>Negative</td>\n",
       "      <td>NaN</td>\n",
       "      <td></td>\n",
       "      <td>NaN</td>\n",
       "      <td></td>\n",
       "      <td>NaN</td>\n",
       "      <td></td>\n",
       "      <td>NaN</td>\n",
       "      <td>Negative</td>\n",
       "      <td>1.0</td>\n",
       "      <td>3.0</td>\n",
       "      <td>0.0</td>\n",
       "      <td>1.0</td>\n",
       "      <td>0.0</td>\n",
       "      <td>1.0</td>\n",
       "      <td>0</td>\n",
       "    </tr>\n",
       "    <tr>\n",
       "      <th>4</th>\n",
       "      <td>775833.0</td>\n",
       "      <td>3.0</td>\n",
       "      <td>Positive</td>\n",
       "      <td>NaN</td>\n",
       "      <td>Positive</td>\n",
       "      <td>2.533</td>\n",
       "      <td></td>\n",
       "      <td>NaN</td>\n",
       "      <td></td>\n",
       "      <td>NaN</td>\n",
       "      <td>Positive</td>\n",
       "      <td>1.0</td>\n",
       "      <td>3.0</td>\n",
       "      <td>1.0</td>\n",
       "      <td>1.0</td>\n",
       "      <td>0.0</td>\n",
       "      <td>1.0</td>\n",
       "      <td>1</td>\n",
       "    </tr>\n",
       "    <tr>\n",
       "      <th>5</th>\n",
       "      <td>696069.0</td>\n",
       "      <td>3.0</td>\n",
       "      <td>Negative</td>\n",
       "      <td>NaN</td>\n",
       "      <td></td>\n",
       "      <td>NaN</td>\n",
       "      <td></td>\n",
       "      <td>NaN</td>\n",
       "      <td></td>\n",
       "      <td>NaN</td>\n",
       "      <td>Negative</td>\n",
       "      <td>1.0</td>\n",
       "      <td>3.0</td>\n",
       "      <td>0.0</td>\n",
       "      <td>1.0</td>\n",
       "      <td>0.0</td>\n",
       "      <td>1.0</td>\n",
       "      <td>0</td>\n",
       "    </tr>\n",
       "  </tbody>\n",
       "</table>\n",
       "</div>"
      ],
      "text/plain": [
       "     hsv2id  merge_HSVcode HSV_result1  HSV_od1 HSV_result2  HSV_od2  \\\n",
       "1  546864.0            3.0    Negative      NaN                  NaN   \n",
       "2  378855.0            3.0    Negative      NaN                  NaN   \n",
       "3  579082.0            3.0    Negative      NaN                  NaN   \n",
       "4  775833.0            3.0    Positive      NaN    Positive    2.533   \n",
       "5  696069.0            3.0    Negative      NaN                  NaN   \n",
       "\n",
       "  HSV_result3  HSV_od3 HSV_result4  HSV_od4 HSV_finalresult  HSV_batch  \\\n",
       "1                  NaN                  NaN        Negative        1.0   \n",
       "2                  NaN                  NaN        Negative        1.0   \n",
       "3                  NaN                  NaN        Negative        1.0   \n",
       "4                  NaN                  NaN        Positive        1.0   \n",
       "5                  NaN                  NaN        Negative        1.0   \n",
       "\n",
       "   merge_HSVresults  hsv2_positive  HSV2_blood_sample  hsv2_decline  \\\n",
       "1               3.0            0.0                1.0           0.0   \n",
       "2               3.0            0.0                1.0           0.0   \n",
       "3               3.0            0.0                1.0           0.0   \n",
       "4               3.0            1.0                1.0           0.0   \n",
       "5               3.0            0.0                1.0           0.0   \n",
       "\n",
       "   hsv2_accept  HSV-2 positive  \n",
       "1          1.0               0  \n",
       "2          1.0               0  \n",
       "3          1.0               0  \n",
       "4          1.0               1  \n",
       "5          1.0               0  "
      ]
     },
     "execution_count": 13,
     "metadata": {},
     "output_type": "execute_result"
    }
   ],
   "source": [
    "hsv = df_filter.filter(regex='.*(?i)hsv.*',axis=1)\n",
    "hsv.head()"
   ]
  },
  {
   "cell_type": "markdown",
   "metadata": {},
   "source": [
    "First, rule out variables that are obviously irrelevant.\n",
    "- **hsv2id** is assigned to almost all individuals in the data set 19202 out of 19293 regardless of having HSV-2 result at stage 2 or not. Here, in the filtered data frame total number equals 7458 as the surveyed individuals that are filtered out previously.\n",
    "- **merge_HSVcode** seems to be some sort of merging key generated in data processing process of the authors, having only value 3.\n",
    "- **HSV_od1** to **HSV_od4** are supposed to be the numerical value records of some special cases in the testing process. It takes values that range from 0 to about 5, only have value if HSV_result is not null.\n",
    "- **HSV_batch** something takes value from 1 to 8, I assume it relates to testing branches.\n",
    "- **merge_HSVresults** taking value 1 & 3 with 144 & 7313 entries each, it supposed to be something related to merge_HSVcode\n",
    "- **HSV2_blood_sample**, **hsv2_decline**, **hsv2_accept** could be gauged by the number of entries and name that denoted taking hsv2 blood sample or not, accepting testing or not, declining test or not.\n",
    "- **HSV-2 positive** is variable I created for table 2 based on hsv-positive\n",
    "\n",
    "As for HSV_result1 to HSV_result4, HSV_finalresult, hsv2_positive, it can be seemn from below, HSV_finalresult is the same thing as hsv-positive."
   ]
  },
  {
   "cell_type": "code",
   "execution_count": 14,
   "metadata": {},
   "outputs": [
    {
     "data": {
      "text/html": [
       "<div>\n",
       "<style scoped>\n",
       "    .dataframe tbody tr th:only-of-type {\n",
       "        vertical-align: middle;\n",
       "    }\n",
       "\n",
       "    .dataframe tbody tr th {\n",
       "        vertical-align: top;\n",
       "    }\n",
       "\n",
       "    .dataframe thead th {\n",
       "        text-align: right;\n",
       "    }\n",
       "</style>\n",
       "<table border=\"1\" class=\"dataframe\">\n",
       "  <thead>\n",
       "    <tr style=\"text-align: right;\">\n",
       "      <th>HSV_finalresult</th>\n",
       "      <th>Equivocal</th>\n",
       "      <th>Negative</th>\n",
       "      <th>Positive</th>\n",
       "    </tr>\n",
       "    <tr>\n",
       "      <th>hsv2_positive</th>\n",
       "      <th></th>\n",
       "      <th></th>\n",
       "      <th></th>\n",
       "    </tr>\n",
       "  </thead>\n",
       "  <tbody>\n",
       "    <tr>\n",
       "      <th>0.0</th>\n",
       "      <td>31</td>\n",
       "      <td>6674</td>\n",
       "      <td>0</td>\n",
       "    </tr>\n",
       "    <tr>\n",
       "      <th>1.0</th>\n",
       "      <td>0</td>\n",
       "      <td>0</td>\n",
       "      <td>597</td>\n",
       "    </tr>\n",
       "  </tbody>\n",
       "</table>\n",
       "</div>"
      ],
      "text/plain": [
       "HSV_finalresult  Equivocal  Negative  Positive\n",
       "hsv2_positive                                 \n",
       "0.0                     31      6674         0\n",
       "1.0                      0         0       597"
      ]
     },
     "execution_count": 14,
     "metadata": {},
     "output_type": "execute_result"
    }
   ],
   "source": [
    "pd.crosstab(hsv['hsv2_positive'], hsv['HSV_finalresult'])"
   ]
  },
  {
   "cell_type": "markdown",
   "metadata": {},
   "source": [
    "As for the 4 HSV_result, if counting how many non-null values in each column, it will appear to be declined sharply."
   ]
  },
  {
   "cell_type": "code",
   "execution_count": 49,
   "metadata": {},
   "outputs": [
    {
     "data": {
      "text/plain": [
       "HSV_result1    7314\n",
       "HSV_result2     763\n",
       "HSV_result3     145\n",
       "HSV_result4      14\n",
       "dtype: int64"
      ]
     },
     "execution_count": 49,
     "metadata": {},
     "output_type": "execute_result"
    }
   ],
   "source": [
    "hsv_results = hsv.filter(regex='HSV_result.',axis=1)\n",
    "hsv_results[hsv_results != ''].count()"
   ]
  },
  {
   "cell_type": "markdown",
   "metadata": {},
   "source": [
    "If comparing the only one testing that is covered almost the whole sample with the final result, it’ll show those who have been testing negative in HSV_result1 are all considered as negative in the final result. This explains that it can’t be testing at baseline because it suggests there is no new infections and is inconsistent with the number in Duflo et al. (2019). Combing these two characteristics and existence of HSV_od1 to 4, I’ll say these are just variables recording repeated testing results for the follow-up test."
   ]
  },
  {
   "cell_type": "code",
   "execution_count": 50,
   "metadata": {},
   "outputs": [
    {
     "data": {
      "text/html": [
       "<div>\n",
       "<style scoped>\n",
       "    .dataframe tbody tr th:only-of-type {\n",
       "        vertical-align: middle;\n",
       "    }\n",
       "\n",
       "    .dataframe tbody tr th {\n",
       "        vertical-align: top;\n",
       "    }\n",
       "\n",
       "    .dataframe thead th {\n",
       "        text-align: right;\n",
       "    }\n",
       "</style>\n",
       "<table border=\"1\" class=\"dataframe\">\n",
       "  <thead>\n",
       "    <tr style=\"text-align: right;\">\n",
       "      <th>HSV_finalresult</th>\n",
       "      <th></th>\n",
       "      <th>Equivocal</th>\n",
       "      <th>Negative</th>\n",
       "      <th>Positive</th>\n",
       "    </tr>\n",
       "    <tr>\n",
       "      <th>HSV_result1</th>\n",
       "      <th></th>\n",
       "      <th></th>\n",
       "      <th></th>\n",
       "      <th></th>\n",
       "    </tr>\n",
       "  </thead>\n",
       "  <tbody>\n",
       "    <tr>\n",
       "      <th></th>\n",
       "      <td>144</td>\n",
       "      <td>0</td>\n",
       "      <td>0</td>\n",
       "      <td>0</td>\n",
       "    </tr>\n",
       "    <tr>\n",
       "      <th>Equivocal</th>\n",
       "      <td>0</td>\n",
       "      <td>21</td>\n",
       "      <td>54</td>\n",
       "      <td>27</td>\n",
       "    </tr>\n",
       "    <tr>\n",
       "      <th>Negative</th>\n",
       "      <td>0</td>\n",
       "      <td>0</td>\n",
       "      <td>6555</td>\n",
       "      <td>0</td>\n",
       "    </tr>\n",
       "    <tr>\n",
       "      <th>Positive</th>\n",
       "      <td>0</td>\n",
       "      <td>22</td>\n",
       "      <td>65</td>\n",
       "      <td>570</td>\n",
       "    </tr>\n",
       "  </tbody>\n",
       "</table>\n",
       "</div>"
      ],
      "text/plain": [
       "HSV_finalresult       Equivocal  Negative  Positive\n",
       "HSV_result1                                        \n",
       "                 144          0         0         0\n",
       "Equivocal          0         21        54        27\n",
       "Negative           0          0      6555         0\n",
       "Positive           0         22        65       570"
      ]
     },
     "execution_count": 50,
     "metadata": {},
     "output_type": "execute_result"
    }
   ],
   "source": [
    "pd.crosstab(hsv['HSV_result1'], hsv['HSV_finalresult'])"
   ]
  },
  {
   "cell_type": "markdown",
   "metadata": {},
   "source": [
    "## 7.2. Others\n",
    "\n",
    "Here is a list of the rest of my attempts because showing them all would look tedious.\n",
    "- Using self-reported STI, an_STI_Q205 to compose the HSV-2 prevalence at baseline, sadly, it doesn’t yield anything closed to the value reported in Duflo et al. (2019) and is not the same as how the paper described as well. In the paper, it mentioned about blood testing, instead of self-reporting as the source of HSV-2 infection.\n",
    "- Doing the searching and verifying process in 7.1 on keywords: ‘bd’, ‘blood’, ‘test’, ‘result’  etc.\n",
    "- Checking both questionnaires about whether they have HSV results  \n",
    "- Poring over the whole dataset and testing any variable that having a name can possibly be it.\n",
    "\n",
    "The only possible solution that’s left is writing to the author and ask about it. Considering of time they’ll take to reply might exceed project deadline and inappropriateness, I didn’t give this thought a shot.\n"
   ]
  },
  {
   "cell_type": "markdown",
   "metadata": {},
   "source": [
    "---\n",
    "# 8. References\n",
    "---"
   ]
  },
  {
   "cell_type": "markdown",
   "metadata": {},
   "source": [
    "* **Canning D. (2006)** _The economics of HIV/AIDS in low-income countries: the case for prevention. J Econ Perspect._ 20(3):121-142. doi:10.1257/jep.20.3.121\n",
    "\n",
    "* **Coates TJ, Kulich M, Celentano DD, Zelaya CE, Chariyalertsak S, Chingono A, et al. (2014)** _Effect of community-based voluntary counselling and testing on HIV incidence and social and behavioural outcomes (NIMH Project Accept; HPTN 043): a cluster-randomised trial._ Lancet Global Health. 2(5): E267–77. https://doi.org/10.1016/S2214-109X(14)70032-4 PMID: 25103167\n",
    "\n",
    "* **de Grange, L., González, F., Vargas, I. et al. (2015)** _A Logit Model With Endogenous Explanatory Variables and Network Externalities._ Netw Spat Econ 15, 89–116. https://doi.org/10.1007/s11067-014-9271-5\n",
    "\n",
    "* **Duflo E, Dupas P, Ginn T, Barasa GM, Baraza M, Pouliquen V, et al. (2019)** _HIV prevention among youth: A randomized controlled trial of voluntary counseling and testing for HIV and male condom distribution in rural Kenya._ PLoS ONE 14(7): e0219535. https://doi.org/10.1371/journal.pone.0219535\n",
    "\n",
    "* **Duflo E, Dupas P, Kremer M. (2015)** _Education, HIV, and Early Fertility: Experimental Evidence from Kenya. American Economic Review._ 105(9):2257–97.\n",
    "\n",
    "* **Fonner VA, Denison J, Kennedy CE, O’Reilly K, Sweat M. (2012)** _Voluntary counseling and testing (VCT) for changing HIV-related risk behavior in developing countries._ The Cochrane Library. https://doi.org/10.1002/14651858.CD010274\n",
    "\n",
    "* **Greene (2006)** _Econometric Analysis_\n",
    "\n",
    "* **Hansen B. (2020)** _Econometrics_\n",
    "\n",
    "* **Miguel, Edward, and Michael Kremer. (2004)** _Worms: Identifying Impacts on Education and Health in the Presence of Treatment Externalities._ Econometrica 72 (1): 159-217.\n",
    "\n",
    "* **Sherr L, Lopman B, Kakowa M, Dube S, Chawira G, Nyamukapa C, et al. (2007)** _Voluntary counselling and testing: uptake, impact on sexual behaviour, and HIV incidence in a rural Zimbabwean cohort. AIDS._ 21(7):851–86 https://doi.org/10.1097/QAD.0b013e32805e8711 PMID: 17415040\n",
    "\n"
   ]
  },
  {
   "cell_type": "markdown",
   "metadata": {},
   "source": [
    "-------\n",
    "Notebook by Amanda Wu | Find me on GitHub at https://github.com/amanda8412383\n",
    "\n",
    "---"
   ]
  }
 ],
 "metadata": {
  "kernelspec": {
   "display_name": "Python 3",
   "language": "python",
   "name": "python3"
  },
  "language_info": {
   "codemirror_mode": {
    "name": "ipython",
    "version": 3
   },
   "file_extension": ".py",
   "mimetype": "text/x-python",
   "name": "python",
   "nbconvert_exporter": "python",
   "pygments_lexer": "ipython3",
   "version": "3.7.6"
  },
  "toc": {
   "base_numbering": 1,
   "nav_menu": {},
   "number_sections": false,
   "sideBar": true,
   "skip_h1_title": false,
   "title_cell": "Table of Contents",
   "title_sidebar": "Contents",
   "toc_cell": true,
   "toc_position": {
    "height": "622.641px",
    "left": "691px",
    "top": "110px",
    "width": "277.4px"
   },
   "toc_section_display": true,
   "toc_window_display": true
  },
  "varInspector": {
   "cols": {
    "lenName": 16,
    "lenType": 16,
    "lenVar": 40
   },
   "kernels_config": {
    "python": {
     "delete_cmd_postfix": "",
     "delete_cmd_prefix": "del ",
     "library": "var_list.py",
     "varRefreshCmd": "print(var_dic_list())"
    },
    "r": {
     "delete_cmd_postfix": ") ",
     "delete_cmd_prefix": "rm(",
     "library": "var_list.r",
     "varRefreshCmd": "cat(var_dic_list()) "
    }
   },
   "oldHeight": 189.73845400000002,
   "position": {
    "height": "478.719px",
    "left": "987.578px",
    "right": "20px",
    "top": "283.984px",
    "width": "717.172px"
   },
   "types_to_exclude": [
    "module",
    "function",
    "builtin_function_or_method",
    "instance",
    "_Feature"
   ],
   "varInspector_section_display": "block",
   "window_display": false
  }
 },
 "nbformat": 4,
 "nbformat_minor": 4
}
